{
 "cells": [
  {
   "cell_type": "markdown",
   "id": "8f6e0d3f-7523-46e7-847e-8cec69af413d",
   "metadata": {},
   "source": [
    "## 자연어처리-이병남-1197"
   ]
  },
  {
   "cell_type": "markdown",
   "id": "5f24a269-55b3-4d1c-ab4b-b914056ad684",
   "metadata": {},
   "source": [
    "## 답안지\n",
    "[1] 3\n",
    "[2] 2\n",
    "[3] 3\n",
    "[4] 2\n",
    "[5] 3\n",
    "[6] 3\n",
    "[7] 1\n",
    "[8] 3\n",
    "[9] 2\n",
    "[10] 1"
   ]
  },
  {
   "cell_type": "code",
   "execution_count": null,
   "id": "91021513",
   "metadata": {},
   "outputs": [],
   "source": []
  },
  {
   "cell_type": "code",
   "execution_count": null,
   "id": "292e91b2",
   "metadata": {},
   "outputs": [],
   "source": []
  },
  {
   "cell_type": "markdown",
   "id": "b184802d-a4b9-4c10-a437-2db44153593f",
   "metadata": {},
   "source": [
    "### 실습1"
   ]
  },
  {
   "cell_type": "code",
   "execution_count": null,
   "id": "0bb412f7-c6e4-4300-8dd8-7db21ed79666",
   "metadata": {},
   "outputs": [],
   "source": [
    "import pandas as pd\n",
    "import matplotlib.pyplot as plt\n",
    "\n",
    "# CSV 파일 경로\n",
    "file_path = \"ai-ace/day03/quiz/mpg.csv\"\n",
    "\n",
    "# 데이터 불러오기\n",
    "df = pd.read_csv(file_path)\n",
    "\n",
    "# 일부 행만 표시 (예: 상위 10개)\n",
    "subset = df.head(10)\n",
    "\n",
    "# 이미지로 저장하기 위한 텍스트 구성\n",
    "fig, ax = plt.subplots(figsize=(12, 4))\n",
    "ax.axis('off')\n",
    "table = ax.table(cellText=subset.values,\n",
    "                 colLabels=subset.columns,\n",
    "                 cellLoc='center',\n",
    "                 loc='center')\n",
    "\n",
    "# 이미지 저장\n",
    "plt.savefig(\"ai-ace/day03/quiz/mpg_dataframe.png\", bbox_inches='tight')\n",
    "plt.close()\n"
   ]
  },
  {
   "cell_type": "code",
   "execution_count": null,
   "id": "6b83290f-e955-44a1-9644-818009918020",
   "metadata": {},
   "outputs": [],
   "source": [
    "### 실습 2"
   ]
  },
  {
   "cell_type": "code",
   "execution_count": null,
   "id": "4099a33d-7430-46a6-ab20-cc2e011c59cc",
   "metadata": {},
   "outputs": [],
   "source": [
    "import pandas as pd\n",
    "\n",
    "# Load the CSV file\n",
    "df = pd.read_csv(\"mpg.csv\")\n",
    "\n",
    "# Filter rows where manufacturer is 'audi'\n",
    "audi_df = df[df[\"manufacturer\"] == \"audi\"]\n",
    "\n",
    "# Display the result\n",
    "print(audi_df)\n"
   ]
  },
  {
   "cell_type": "markdown",
   "id": "c3d37eec-f573-45c0-a1c3-18f4a7975266",
   "metadata": {},
   "source": [
    "### 실습 3"
   ]
  },
  {
   "cell_type": "code",
   "execution_count": null,
   "id": "a2f19863-4891-4845-ab4b-f2ad3e8a178d",
   "metadata": {},
   "outputs": [],
   "source": [
    "import pandas as pd\n",
    "\n",
    "# CSV 파일 불러오기\n",
    "df = pd.read_csv(\"mpg.csv\")\n",
    "\n",
    "# 각 열을 변수에 저장\n",
    "category = df[\"category\"]\n",
    "cty = df[\"cty\"]\n",
    "hwy = df[\"hwy\"]\n",
    "\n",
    "# 예시 출력\n",
    "print(category.head())\n",
    "print(cty.head())\n",
    "print(hwy.head())\n"
   ]
  },
  {
   "cell_type": "markdown",
   "id": "e468030d-71c0-4195-87cf-a2cc7c01a824",
   "metadata": {},
   "source": [
    "### 실습 4"
   ]
  },
  {
   "cell_type": "code",
   "execution_count": null,
   "id": "91c1b359-33a6-4598-b037-d51c505bf2bd",
   "metadata": {},
   "outputs": [],
   "source": [
    "import pandas as pd\n",
    "\n",
    "# CSV 파일 불러오기\n",
    "df = pd.read_csv(\"mpg.csv\")\n",
    "\n",
    "# category별로 cty, hwy 평균 계산\n",
    "avg_by_category = df.groupby(\"category\")[[\"cty\", \"hwy\"]].mean()\n",
    "\n",
    "# 결과 출력\n",
    "print(avg_by_category)\n"
   ]
  },
  {
   "cell_type": "markdown",
   "id": "7653b283-9154-45ac-bbfe-bf073f246d83",
   "metadata": {},
   "source": [
    "### 실습 5"
   ]
  },
  {
   "cell_type": "code",
   "execution_count": null,
   "id": "7d953885-b57b-41f8-8f10-3d90bc62e3b5",
   "metadata": {},
   "outputs": [],
   "source": [
    "import pandas as pd\n",
    "import matplotlib.pyplot as plt\n",
    "\n",
    "# CSV 파일 불러오기\n",
    "df = pd.read_csv(\"mpg.csv\")\n",
    "\n",
    "# category별로 cty, hwy 평균 계산 후 chart 변수에 저장\n",
    "chart = df.groupby(\"category\")[[\"cty\", \"hwy\"]].mean()\n",
    "\n",
    "# 선 그래프 그리기\n",
    "plt.figure(figsize=(8, 5))\n",
    "plt.plot(chart.index, chart[\"cty\"], marker='o', label='도시 연비 (cty)', color='blue')\n",
    "plt.plot(chart.index, chart[\"hwy\"], marker='s', label='고속도로 연비 (hwy)', color='green')\n",
    "\n",
    "# 그래프 꾸미기\n",
    "plt.title(\"차종별 평균 연비\")\n",
    "plt.xlabel(\"차종 (category)\")\n",
    "plt.ylabel(\"연비 (mpg)\")\n",
    "plt.xticks(rotation=45)\n",
    "plt.legend()\n",
    "plt.grid(True)\n",
    "plt.tight_layout()\n",
    "\n",
    "# 그래프 출력\n",
    "plt.show()\n"
   ]
  }
 ],
 "metadata": {
  "kernelspec": {
   "display_name": "Python 3 (ipykernel)",
   "language": "python",
   "name": "python3"
  },
  "language_info": {
   "codemirror_mode": {
    "name": "ipython",
    "version": 3
   },
   "file_extension": ".py",
   "mimetype": "text/x-python",
   "name": "python",
   "nbconvert_exporter": "python",
   "pygments_lexer": "ipython3",
   "version": "3.11.9"
  }
 },
 "nbformat": 4,
 "nbformat_minor": 5
}
