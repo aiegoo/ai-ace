{
 "cells": [
  {
   "cell_type": "markdown",
   "id": "f5a479ff",
   "metadata": {},
   "source": [
    "# 🔢 Python Data Types Deep Dive\n",
    "## Interactive Practice Notebook for Goorm AI Track 7th\n",
    "\n",
    "**🎯 Focus**: Complete mastery of Python data types through hands-on practice  \n",
    "**👥 Team**: AI-ACE members and all students  \n",
    "**📅 Date**: October 30, 2025\n",
    "\n",
    "---\n",
    "\n",
    "### 🎪 What We'll Practice Today\n",
    "\n",
    "1. **Numbers**: int, float, complex operations\n",
    "2. **Strings**: manipulation, formatting, methods\n",
    "3. **Booleans**: logic and truthiness\n",
    "4. **Lists**: dynamic arrays and operations  \n",
    "5. **Tuples**: immutable sequences\n",
    "6. **Dictionaries**: key-value mappings\n",
    "7. **Sets**: unique collections\n",
    "8. **Type Conversion**: safe casting between types\n",
    "\n",
    "---\n",
    "\n",
    "**💡 Interactive Learning**: Each section has exercises you can modify and experiment with!"
   ]
  },
  {
   "cell_type": "code",
   "execution_count": 1,
   "id": "a16b061d",
   "metadata": {},
   "outputs": [
    {
     "name": "stdout",
     "output_type": "stream",
     "text": [
      "=== Comprehensive Numbers Practice ===\n",
      "📊 Class Statistics:\n",
      "   Total students: 17\n",
      "   AI-ACE members: 6\n",
      "   Other students: 11\n",
      "\n",
      "📈 Grade Analysis:\n",
      "   Current average: 87.5%\n",
      "   With 15% improvement: 100.6%\n",
      "\n",
      "🔬 Complex Number Example:\n",
      "   Number: (3+4j)\n",
      "   Magnitude: 5.00\n",
      "\n",
      "🧮 Math Operations Practice:\n",
      "   17 + 6 = 23\n",
      "   17 * 8 = 136 (total study hours)\n",
      "   17 / 6 = 2.83 (students per AI-ACE member)\n",
      "   17 % 6 = 5 (remainder)\n",
      "   6 ** 2 = 36 (squared)\n"
     ]
    }
   ],
   "source": [
    "# 🔢 Numbers Practice - All Numeric Types\n",
    "print(\"=== Comprehensive Numbers Practice ===\")\n",
    "\n",
    "# Integer operations with real scenarios\n",
    "total_students = 17\n",
    "ai_ace_members = 6\n",
    "study_hours_per_day = 8\n",
    "\n",
    "print(f\"📊 Class Statistics:\")\n",
    "print(f\"   Total students: {total_students}\")\n",
    "print(f\"   AI-ACE members: {ai_ace_members}\")\n",
    "print(f\"   Other students: {total_students - ai_ace_members}\")\n",
    "\n",
    "# Float calculations\n",
    "average_grade = 87.5\n",
    "improvement_rate = 0.15\n",
    "new_average = average_grade * (1 + improvement_rate)\n",
    "\n",
    "print(f\"\\n📈 Grade Analysis:\")\n",
    "print(f\"   Current average: {average_grade}%\")\n",
    "print(f\"   With {improvement_rate:.0%} improvement: {new_average:.1f}%\")\n",
    "\n",
    "# Complex numbers (advanced topic)\n",
    "complex_num = 3 + 4j\n",
    "magnitude = abs(complex_num)\n",
    "print(f\"\\n🔬 Complex Number Example:\")\n",
    "print(f\"   Number: {complex_num}\")\n",
    "print(f\"   Magnitude: {magnitude:.2f}\")\n",
    "\n",
    "# Mathematical operations\n",
    "print(f\"\\n🧮 Math Operations Practice:\")\n",
    "print(f\"   {total_students} + {ai_ace_members} = {total_students + ai_ace_members}\")\n",
    "print(f\"   {total_students} * {study_hours_per_day} = {total_students * study_hours_per_day} (total study hours)\")\n",
    "print(f\"   {total_students} / {ai_ace_members} = {total_students / ai_ace_members:.2f} (students per AI-ACE member)\")\n",
    "print(f\"   {total_students} % {ai_ace_members} = {total_students % ai_ace_members} (remainder)\")\n",
    "print(f\"   {ai_ace_members} ** 2 = {ai_ace_members ** 2} (squared)\")"
   ]
  },
  {
   "cell_type": "code",
   "execution_count": 2,
   "id": "121bcae5",
   "metadata": {},
   "outputs": [
    {
     "name": "stdout",
     "output_type": "stream",
     "text": [
      "=== YOUR TURN: Team Calculator ===\n",
      "💡 Fill in your team information above and re-run this cell!\n",
      "\n",
      "🔍 Data Type Analysis:\n",
      "   42 is a int\n",
      "   3.14 is a float\n",
      "   0 is a int\n",
      "   0 is a int\n"
     ]
    }
   ],
   "source": [
    "# 🎯 Interactive Exercise: Create Your Team Calculator\n",
    "print(\"=== YOUR TURN: Team Calculator ===\")\n",
    "\n",
    "# TODO: Fill in your team information\n",
    "your_team_name = \"여기에 팀명 입력\"  # Enter your team name\n",
    "your_team_size = 0  # Enter your team size\n",
    "weekly_study_hours = 0  # Enter weekly study hours\n",
    "\n",
    "# TODO: Calculate and display team statistics\n",
    "if your_team_size > 0 and weekly_study_hours > 0:\n",
    "    hours_per_member = weekly_study_hours / your_team_size\n",
    "    monthly_hours = weekly_study_hours * 4\n",
    "    \n",
    "    print(f\"📊 {your_team_name} Team Statistics:\")\n",
    "    print(f\"   👥 Team size: {your_team_size} members\")\n",
    "    print(f\"   ⏰ Weekly study: {weekly_study_hours} hours\")\n",
    "    print(f\"   👤 Hours per member: {hours_per_member:.1f} hours/week\")\n",
    "    print(f\"   📅 Monthly total: {monthly_hours} hours\")\n",
    "else:\n",
    "    print(\"💡 Fill in your team information above and re-run this cell!\")\n",
    "\n",
    "# Number type checking\n",
    "print(f\"\\n🔍 Data Type Analysis:\")\n",
    "sample_numbers = [42, 3.14, your_team_size, hours_per_member if 'hours_per_member' in locals() else 0]\n",
    "\n",
    "for num in sample_numbers:\n",
    "    print(f\"   {num} is a {type(num).__name__}\")"
   ]
  },
  {
   "cell_type": "code",
   "execution_count": null,
   "id": "1a1df3d1",
   "metadata": {},
   "outputs": [],
   "source": []
  }
 ],
 "metadata": {
  "kernelspec": {
   "display_name": "Python 3 (ipykernel)",
   "language": "python",
   "name": "python3"
  },
  "language_info": {
   "codemirror_mode": {
    "name": "ipython",
    "version": 3
   },
   "file_extension": ".py",
   "mimetype": "text/x-python",
   "name": "python",
   "nbconvert_exporter": "python",
   "pygments_lexer": "ipython3",
   "version": "3.11.9"
  }
 },
 "nbformat": 4,
 "nbformat_minor": 5
}
