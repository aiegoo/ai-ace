{
 "cells": [
  {
   "cell_type": "markdown",
   "id": "ea4b1b77",
   "metadata": {},
   "source": [
    "# 🤖 100년 뒤의 나이 계산기 봇\n",
    "\n",
    "**[문제]** 이 봇은 사용자에게 **이름**과 **태어난 연도**를 물어봅니다. 그리고 그 정보를 바탕으로 사용자의 **현재 나이(만 나이)**와 **100년 뒤가 되었을 때의 나이**를 계산해서 알려줘야 합니다.\n",
    "\n",
    "## 📋 임무 목록:\n",
    "\n",
    "1. `input()`으로 \"당신의 이름은?\"을 물어 `name` 변수에 저장하세요.\n",
    "2. `input()`으로 \"태어난 연도(숫자 4자리):\"를 물어 `birth_year_str` 변수에 저장하세요.\n",
    "3. 태어난 연도(`birth_year_str`)는 현재 **문자열**입니다. `int()`를 사용해 **숫자**로 변환하고 `birth_year_num` 변수에 저장하세요.\n",
    "4. `current_year = 2025` 라고 코드에 직접 입력해서 '현재 연도'를 **숫자**로 정해줍니다.\n",
    "5. **숫자**끼리 `–` (빼기) 연산을 해서 현재 나이(`current_age`)를 계산하세요.\n",
    "6. **숫자**끼리 `+` (더하기) 연산을 해서 100년 뒤 나이(`future_age`)를 계산하세요.\n",
    "7. 이제 `print()`를 사용해 최종 결과를 출력합니다.\n",
    "8. `str()`을 사용해 `current_age`와 `future_age`를 **문자열**로 변환하고, `+` 연산자로 문장들을 예쁘게 합쳐서 출력하세요.\n",
    "\n",
    "**최종 출력 예시:**\n",
    "```\n",
    "안녕하세요, 홍길동님.\n",
    "당신의 현재 나이는 25살입니다.\n",
    "100년 뒤에는 125살이 되시겠네요!\n",
    "```"
   ]
  },
  {
   "cell_type": "markdown",
   "id": "d7cc7162",
   "metadata": {},
   "source": [
    "## 📝 Step 1-2: 사용자 정보 입력받기"
   ]
  },
  {
   "cell_type": "code",
   "execution_count": null,
   "id": "e237e60b",
   "metadata": {},
   "outputs": [],
   "source": [
    "# 1. 사용자 이름 입력받기\n",
    "name = input(\"당신의 이름은? \")\n",
    "\n",
    "# 2. 태어난 연도 입력받기 (문자열로)\n",
    "birth_year_str = input(\"태어난 연도(숫자 4자리): \")\n",
    "\n",
    "print(f\"입력받은 정보: 이름={name}, 태어난 연도={birth_year_str}\")\n",
    "print(f\"birth_year_str의 타입: {type(birth_year_str)}\")"
   ]
  },
  {
   "cell_type": "markdown",
   "id": "f2bf0043",
   "metadata": {},
   "source": [
    "## 🔢 Step 3-4: 데이터 타입 변환 및 현재 연도 설정"
   ]
  },
  {
   "cell_type": "code",
   "execution_count": null,
   "id": "c0bf4e4a",
   "metadata": {},
   "outputs": [],
   "source": [
    "# 3. 태어난 연도를 문자열에서 숫자로 변환\n",
    "birth_year_num = int(birth_year_str)\n",
    "\n",
    "# 4. 현재 연도 설정\n",
    "current_year = 2025\n",
    "\n",
    "print(f\"birth_year_num: {birth_year_num} (타입: {type(birth_year_num)})\")\n",
    "print(f\"current_year: {current_year} (타입: {type(current_year)})\")"
   ]
  },
  {
   "cell_type": "markdown",
   "id": "d07ae160",
   "metadata": {},
   "source": [
    "## 🧮 Step 5-6: 나이 계산하기"
   ]
  },
  {
   "cell_type": "code",
   "execution_count": null,
   "id": "5a9e4d09",
   "metadata": {},
   "outputs": [],
   "source": [
    "# 5. 현재 나이 계산 (숫자끼리 빼기 연산)\n",
    "current_age = current_year - birth_year_num\n",
    "\n",
    "# 6. 100년 뒤 나이 계산 (숫자끼리 더하기 연산)\n",
    "future_age = current_age + 100\n",
    "\n",
    "print(f\"현재 나이: {current_age}살\")\n",
    "print(f\"100년 뒤 나이: {future_age}살\")"
   ]
  },
  {
   "cell_type": "markdown",
   "id": "f33b10e9",
   "metadata": {},
   "source": [
    "## 📢 Step 7-8: 최종 결과 출력하기"
   ]
  },
  {
   "cell_type": "code",
   "execution_count": null,
   "id": "7497fa23",
   "metadata": {},
   "outputs": [],
   "source": [
    "# 7-8. 결과 출력 (숫자를 문자열로 변환해서 합치기)\n",
    "print(\"=\" * 50)\n",
    "print(\"📊 계산 결과\")\n",
    "print(\"=\" * 50)\n",
    "\n",
    "print(\"안녕하세요, \" + name + \"님.\")\n",
    "print(\"당신의 현재 나이는 \" + str(current_age) + \"살입니다.\")\n",
    "print(\"100년 뒤에는 \" + str(future_age) + \"살이 되시겠네요!\")\n",
    "\n",
    "print(\"=\" * 50)"
   ]
  },
  {
   "cell_type": "markdown",
   "id": "81424d3d",
   "metadata": {},
   "source": [
    "## 🎯 전체 코드 (한 번에 실행)\n",
    "\n",
    "위의 단계별 코드를 하나로 합친 완전한 버전입니다:"
   ]
  },
  {
   "cell_type": "code",
   "execution_count": null,
   "id": "f6b3ccb9",
   "metadata": {},
   "outputs": [],
   "source": [
    "def age_calculator_bot():\n",
    "    \"\"\"\n",
    "    100년 뒤의 나이 계산기 봇\n",
    "    \"\"\"\n",
    "    print(\"🤖 100년 뒤의 나이 계산기 봇\")\n",
    "    print(\"=\" * 50)\n",
    "    \n",
    "    # 1. 사용자 이름 입력받기\n",
    "    name = input(\"당신의 이름은? \")\n",
    "    \n",
    "    # 2. 태어난 연도 입력받기 (문자열로)\n",
    "    birth_year_str = input(\"태어난 연도(숫자 4자리): \")\n",
    "    \n",
    "    # 3. 태어난 연도를 문자열에서 숫자로 변환\n",
    "    birth_year_num = int(birth_year_str)\n",
    "    \n",
    "    # 4. 현재 연도 설정\n",
    "    current_year = 2025\n",
    "    \n",
    "    # 5. 현재 나이 계산 (숫자끼리 빼기 연산)\n",
    "    current_age = current_year - birth_year_num\n",
    "    \n",
    "    # 6. 100년 뒤 나이 계산 (숫자끼리 더하기 연산)\n",
    "    future_age = current_age + 100\n",
    "    \n",
    "    # 7-8. 결과 출력 (숫자를 문자열로 변환해서 합치기)\n",
    "    print(\"\\n\" + \"=\" * 50)\n",
    "    print(\"📊 계산 결과\")\n",
    "    print(\"=\" * 50)\n",
    "    print(\"안녕하세요, \" + name + \"님.\")\n",
    "    print(\"당신의 현재 나이는 \" + str(current_age) + \"살입니다.\")\n",
    "    print(\"100년 뒤에는 \" + str(future_age) + \"살이 되시겠네요!\")\n",
    "    print(\"=\" * 50)\n",
    "\n",
    "# 함수 실행\n",
    "age_calculator_bot()"
   ]
  },
  {
   "cell_type": "markdown",
   "id": "03bf9044",
   "metadata": {},
   "source": [
    "## 🎓 학습 포인트\n",
    "\n",
    "이 프로그램을 통해 배운 중요한 개념들:\n",
    "\n",
    "1. **데이터 타입 변환**: `str()` → `int()` → `str()`\n",
    "2. **사용자 입력**: `input()` 함수 사용\n",
    "3. **산술 연산**: 덧셈(`+`)과 뺄셈(`-`)\n",
    "4. **문자열 연결**: `+` 연산자로 문자열 합치기\n",
    "5. **변수 활용**: 의미있는 변수명 사용하기\n",
    "\n",
    "### 💡 추가 실습 아이디어:\n",
    "- 생년월일까지 받아서 더 정확한 나이 계산하기\n",
    "- 여러 명의 나이를 한 번에 계산하기\n",
    "- f-string을 사용해서 더 깔끔하게 출력하기"
   ]
  }
 ],
 "metadata": {
  "language_info": {
   "name": "python"
  }
 },
 "nbformat": 4,
 "nbformat_minor": 5
}
